{
 "cells": [
  {
   "cell_type": "code",
   "execution_count": 27,
   "metadata": {},
   "outputs": [],
   "source": [
    "import pandas as pd\n",
    "import numpy as np\n",
    "\n",
    "# plotting modules\n",
    "import seaborn as sns\n",
    "import matplotlib.pyplot as plt\n",
    "\n",
    "# for regression analysis\n",
    "from sklearn.linear_model import LinearRegression\n",
    "import statsmodels.api as sm\n",
    "# Importing r2_square\n",
    "from sklearn.metrics import r2_score\n",
    "\n",
    "# Splitting the varaibles as training and testing\n",
    "from sklearn.model_selection import train_test_split\n",
    "\n",
    "# set seed for reproducibility\n",
    "np.random.seed(0)"
   ]
  },
  {
   "cell_type": "code",
   "execution_count": 2,
   "metadata": {},
   "outputs": [],
   "source": [
    "# Encoding error; Load with latin1 for any encoding; Has errors\n",
    "ag = pd.read_csv('Dataset_4.1_AlumniGiving.csv', encoding = 'latin1')"
   ]
  },
  {
   "cell_type": "code",
   "execution_count": 8,
   "metadata": {},
   "outputs": [
    {
     "data": {
      "text/plain": [
       "(48, 6)"
      ]
     },
     "execution_count": 8,
     "metadata": {},
     "output_type": "execute_result"
    }
   ],
   "source": [
    "ag.shape"
   ]
  },
  {
   "cell_type": "code",
   "execution_count": 9,
   "metadata": {},
   "outputs": [
    {
     "data": {
      "text/plain": [
       "<bound method DataFrame.info of                             University State  Graduation Rate  \\\n",
       "0                       Boston College    MA               85   \n",
       "1                  Brandeis University    MA               79   \n",
       "2                     Brown University    RI               93   \n",
       "3   California Institute of Technology    CA               85   \n",
       "4           Carnegie Mellon University    PA               75   \n",
       "5           Case Western Reserve Univ.    OH               72   \n",
       "6          College of William and Mary    VA               89   \n",
       "7                  Columbia University    NY               90   \n",
       "8                   Cornell University    NY               91   \n",
       "9                    Dartmouth College    NH               94   \n",
       "10                     Duke University    NC               92   \n",
       "11                    Emory University    GA               84   \n",
       "12               Georgetown University    DC               91   \n",
       "13                  Harvard University    MA               97   \n",
       "14            Johns Hopkins University    MD               89   \n",
       "15                   Lehigh University    PA               81   \n",
       "16   Massachusetts Inst. of Technology    MA               92   \n",
       "17                 New York University    NY               72   \n",
       "18             Northwestern University    IL               90   \n",
       "19            Pennsylvania State Univ.    PA               80   \n",
       "20                Princeton University    NJ               95   \n",
       "21                     Rice University    TX               92   \n",
       "22                 Stanford University    CA               92   \n",
       "23                    Tufts University    MA               87   \n",
       "24                   Tulane University    LA               72   \n",
       "25           U. of CaliforniaBerkeley    CA               83   \n",
       "26              U. of CaliforniaDavis    CA               74   \n",
       "27             U. of CaliforniaIrvine    CA               74   \n",
       "28        U. of CaliforniaLos Angeles    CA               78   \n",
       "29          U. of CaliforniaSan Diego    CA               80   \n",
       "30      U. of CaliforniaSanta Barbara    CA               70   \n",
       "31                       U. of Chicago    IL               84   \n",
       "32                       U. of Florida    FL               67   \n",
       "33     U. of IllinoisUrbana Champaign    IL               77   \n",
       "34            U. of MichiganAnn Arbor    MI               83   \n",
       "35    U. of North CarolinaChapel Hill    NC               82   \n",
       "36                    U. of Notre Dame    IN               94   \n",
       "37                  U. of Pennsylvania    PA               90   \n",
       "38                     U. of Rochester    NY               76   \n",
       "39           U. of Southern California    CA               70   \n",
       "40                  U. of TexasAustin    TX               66   \n",
       "41                      U. of Virginia    VA               92   \n",
       "42                    U. of Washington    WA               70   \n",
       "43             U. of WisconsinMadison    WI               73   \n",
       "44               Vanderbilt University    TN               82   \n",
       "45              Wake Forest University    NC               82   \n",
       "46     Washington UniversitySt. Louis    MO               86   \n",
       "47                     Yale University    CT               94   \n",
       "\n",
       "    % of Classes Under 20  Student-Faculty Ratio  Alumni Giving Rate  \n",
       "0                      39                     13                  25  \n",
       "1                      68                      8                  33  \n",
       "2                      60                      8                  40  \n",
       "3                      65                      3                  46  \n",
       "4                      67                     10                  28  \n",
       "5                      52                      8                  31  \n",
       "6                      45                     12                  27  \n",
       "7                      69                      7                  31  \n",
       "8                      72                     13                  35  \n",
       "9                      61                     10                  53  \n",
       "10                     68                      8                  45  \n",
       "11                     65                      7                  37  \n",
       "12                     54                     10                  29  \n",
       "13                     73                      8                  46  \n",
       "14                     64                      9                  27  \n",
       "15                     55                     11                  40  \n",
       "16                     65                      6                  44  \n",
       "17                     63                     13                  13  \n",
       "18                     66                      8                  30  \n",
       "19                     32                     19                  21  \n",
       "20                     68                      5                  67  \n",
       "21                     62                      8                  40  \n",
       "22                     69                      7                  34  \n",
       "23                     67                      9                  29  \n",
       "24                     56                     12                  17  \n",
       "25                     58                     17                  18  \n",
       "26                     32                     19                   7  \n",
       "27                     42                     20                   9  \n",
       "28                     41                     18                  13  \n",
       "29                     48                     19                   8  \n",
       "30                     45                     20                  12  \n",
       "31                     65                      4                  36  \n",
       "32                     31                     23                  19  \n",
       "33                     29                     15                  23  \n",
       "34                     51                     15                  13  \n",
       "35                     40                     16                  26  \n",
       "36                     53                     13                  49  \n",
       "37                     65                      7                  41  \n",
       "38                     63                     10                  23  \n",
       "39                     53                     13                  22  \n",
       "40                     39                     21                  13  \n",
       "41                     44                     13                  28  \n",
       "42                     37                     12                  12  \n",
       "43                     37                     13                  13  \n",
       "44                     68                      9                  31  \n",
       "45                     59                     11                  38  \n",
       "46                     73                      7                  33  \n",
       "47                     77                      7                  50  >"
      ]
     },
     "execution_count": 9,
     "metadata": {},
     "output_type": "execute_result"
    }
   ],
   "source": [
    "ag.info"
   ]
  },
  {
   "cell_type": "code",
   "execution_count": 7,
   "metadata": {},
   "outputs": [
    {
     "data": {
      "text/plain": [
       "<bound method NDFrame.describe of                             University State  Graduation Rate  \\\n",
       "0                       Boston College    MA               85   \n",
       "1                  Brandeis University    MA               79   \n",
       "2                     Brown University    RI               93   \n",
       "3   California Institute of Technology    CA               85   \n",
       "4           Carnegie Mellon University    PA               75   \n",
       "5           Case Western Reserve Univ.    OH               72   \n",
       "6          College of William and Mary    VA               89   \n",
       "7                  Columbia University    NY               90   \n",
       "8                   Cornell University    NY               91   \n",
       "9                    Dartmouth College    NH               94   \n",
       "10                     Duke University    NC               92   \n",
       "11                    Emory University    GA               84   \n",
       "12               Georgetown University    DC               91   \n",
       "13                  Harvard University    MA               97   \n",
       "14            Johns Hopkins University    MD               89   \n",
       "15                   Lehigh University    PA               81   \n",
       "16   Massachusetts Inst. of Technology    MA               92   \n",
       "17                 New York University    NY               72   \n",
       "18             Northwestern University    IL               90   \n",
       "19            Pennsylvania State Univ.    PA               80   \n",
       "20                Princeton University    NJ               95   \n",
       "21                     Rice University    TX               92   \n",
       "22                 Stanford University    CA               92   \n",
       "23                    Tufts University    MA               87   \n",
       "24                   Tulane University    LA               72   \n",
       "25           U. of CaliforniaBerkeley    CA               83   \n",
       "26              U. of CaliforniaDavis    CA               74   \n",
       "27             U. of CaliforniaIrvine    CA               74   \n",
       "28        U. of CaliforniaLos Angeles    CA               78   \n",
       "29          U. of CaliforniaSan Diego    CA               80   \n",
       "30      U. of CaliforniaSanta Barbara    CA               70   \n",
       "31                       U. of Chicago    IL               84   \n",
       "32                       U. of Florida    FL               67   \n",
       "33     U. of IllinoisUrbana Champaign    IL               77   \n",
       "34            U. of MichiganAnn Arbor    MI               83   \n",
       "35    U. of North CarolinaChapel Hill    NC               82   \n",
       "36                    U. of Notre Dame    IN               94   \n",
       "37                  U. of Pennsylvania    PA               90   \n",
       "38                     U. of Rochester    NY               76   \n",
       "39           U. of Southern California    CA               70   \n",
       "40                  U. of TexasAustin    TX               66   \n",
       "41                      U. of Virginia    VA               92   \n",
       "42                    U. of Washington    WA               70   \n",
       "43             U. of WisconsinMadison    WI               73   \n",
       "44               Vanderbilt University    TN               82   \n",
       "45              Wake Forest University    NC               82   \n",
       "46     Washington UniversitySt. Louis    MO               86   \n",
       "47                     Yale University    CT               94   \n",
       "\n",
       "    % of Classes Under 20  Student-Faculty Ratio  Alumni Giving Rate  \n",
       "0                      39                     13                  25  \n",
       "1                      68                      8                  33  \n",
       "2                      60                      8                  40  \n",
       "3                      65                      3                  46  \n",
       "4                      67                     10                  28  \n",
       "5                      52                      8                  31  \n",
       "6                      45                     12                  27  \n",
       "7                      69                      7                  31  \n",
       "8                      72                     13                  35  \n",
       "9                      61                     10                  53  \n",
       "10                     68                      8                  45  \n",
       "11                     65                      7                  37  \n",
       "12                     54                     10                  29  \n",
       "13                     73                      8                  46  \n",
       "14                     64                      9                  27  \n",
       "15                     55                     11                  40  \n",
       "16                     65                      6                  44  \n",
       "17                     63                     13                  13  \n",
       "18                     66                      8                  30  \n",
       "19                     32                     19                  21  \n",
       "20                     68                      5                  67  \n",
       "21                     62                      8                  40  \n",
       "22                     69                      7                  34  \n",
       "23                     67                      9                  29  \n",
       "24                     56                     12                  17  \n",
       "25                     58                     17                  18  \n",
       "26                     32                     19                   7  \n",
       "27                     42                     20                   9  \n",
       "28                     41                     18                  13  \n",
       "29                     48                     19                   8  \n",
       "30                     45                     20                  12  \n",
       "31                     65                      4                  36  \n",
       "32                     31                     23                  19  \n",
       "33                     29                     15                  23  \n",
       "34                     51                     15                  13  \n",
       "35                     40                     16                  26  \n",
       "36                     53                     13                  49  \n",
       "37                     65                      7                  41  \n",
       "38                     63                     10                  23  \n",
       "39                     53                     13                  22  \n",
       "40                     39                     21                  13  \n",
       "41                     44                     13                  28  \n",
       "42                     37                     12                  12  \n",
       "43                     37                     13                  13  \n",
       "44                     68                      9                  31  \n",
       "45                     59                     11                  38  \n",
       "46                     73                      7                  33  \n",
       "47                     77                      7                  50  >"
      ]
     },
     "execution_count": 7,
     "metadata": {},
     "output_type": "execute_result"
    }
   ],
   "source": [
    "ag.describe"
   ]
  },
  {
   "cell_type": "code",
   "execution_count": 30,
   "metadata": {},
   "outputs": [
    {
     "data": {
      "text/html": [
       "<div>\n",
       "<style scoped>\n",
       "    .dataframe tbody tr th:only-of-type {\n",
       "        vertical-align: middle;\n",
       "    }\n",
       "\n",
       "    .dataframe tbody tr th {\n",
       "        vertical-align: top;\n",
       "    }\n",
       "\n",
       "    .dataframe thead th {\n",
       "        text-align: right;\n",
       "    }\n",
       "</style>\n",
       "<table border=\"1\" class=\"dataframe\">\n",
       "  <thead>\n",
       "    <tr style=\"text-align: right;\">\n",
       "      <th></th>\n",
       "      <th>University</th>\n",
       "      <th>State</th>\n",
       "      <th>Graduation Rate</th>\n",
       "      <th>% of Classes Under 20</th>\n",
       "      <th>Student-Faculty Ratio</th>\n",
       "      <th>Alumni Giving Rate</th>\n",
       "    </tr>\n",
       "  </thead>\n",
       "  <tbody>\n",
       "    <tr>\n",
       "      <th>0</th>\n",
       "      <td>Boston College</td>\n",
       "      <td>MA</td>\n",
       "      <td>85</td>\n",
       "      <td>39</td>\n",
       "      <td>13</td>\n",
       "      <td>25</td>\n",
       "    </tr>\n",
       "    <tr>\n",
       "      <th>1</th>\n",
       "      <td>Brandeis University</td>\n",
       "      <td>MA</td>\n",
       "      <td>79</td>\n",
       "      <td>68</td>\n",
       "      <td>8</td>\n",
       "      <td>33</td>\n",
       "    </tr>\n",
       "    <tr>\n",
       "      <th>2</th>\n",
       "      <td>Brown University</td>\n",
       "      <td>RI</td>\n",
       "      <td>93</td>\n",
       "      <td>60</td>\n",
       "      <td>8</td>\n",
       "      <td>40</td>\n",
       "    </tr>\n",
       "    <tr>\n",
       "      <th>3</th>\n",
       "      <td>California Institute of Technology</td>\n",
       "      <td>CA</td>\n",
       "      <td>85</td>\n",
       "      <td>65</td>\n",
       "      <td>3</td>\n",
       "      <td>46</td>\n",
       "    </tr>\n",
       "    <tr>\n",
       "      <th>4</th>\n",
       "      <td>Carnegie Mellon University</td>\n",
       "      <td>PA</td>\n",
       "      <td>75</td>\n",
       "      <td>67</td>\n",
       "      <td>10</td>\n",
       "      <td>28</td>\n",
       "    </tr>\n",
       "  </tbody>\n",
       "</table>\n",
       "</div>"
      ],
      "text/plain": [
       "                           University State  Graduation Rate  \\\n",
       "0                      Boston College    MA               85   \n",
       "1                 Brandeis University    MA               79   \n",
       "2                    Brown University    RI               93   \n",
       "3  California Institute of Technology    CA               85   \n",
       "4          Carnegie Mellon University    PA               75   \n",
       "\n",
       "   % of Classes Under 20  Student-Faculty Ratio  Alumni Giving Rate  \n",
       "0                     39                     13                  25  \n",
       "1                     68                      8                  33  \n",
       "2                     60                      8                  40  \n",
       "3                     65                      3                  46  \n",
       "4                     67                     10                  28  "
      ]
     },
     "execution_count": 30,
     "metadata": {},
     "output_type": "execute_result"
    }
   ],
   "source": [
    "ag.head()"
   ]
  },
  {
   "cell_type": "code",
   "execution_count": 7,
   "metadata": {},
   "outputs": [],
   "source": [
    "ag = ag.rename(columns={'Graduation Rate':'grad_rate', '% of Classes Under 20':'%_U20', 'Student-Faculty Ratio':'std-faculty_ratio', 'Alumni Giving Rate':'alumni_giving_rate'})"
   ]
  },
  {
   "cell_type": "code",
   "execution_count": 34,
   "metadata": {},
   "outputs": [
    {
     "data": {
      "text/html": [
       "<div>\n",
       "<style scoped>\n",
       "    .dataframe tbody tr th:only-of-type {\n",
       "        vertical-align: middle;\n",
       "    }\n",
       "\n",
       "    .dataframe tbody tr th {\n",
       "        vertical-align: top;\n",
       "    }\n",
       "\n",
       "    .dataframe thead th {\n",
       "        text-align: right;\n",
       "    }\n",
       "</style>\n",
       "<table border=\"1\" class=\"dataframe\">\n",
       "  <thead>\n",
       "    <tr style=\"text-align: right;\">\n",
       "      <th></th>\n",
       "      <th>University</th>\n",
       "      <th>State</th>\n",
       "      <th>grad_rate</th>\n",
       "      <th>%_U20</th>\n",
       "      <th>std-faculty_ratio</th>\n",
       "      <th>alumni_giving_rate</th>\n",
       "    </tr>\n",
       "  </thead>\n",
       "  <tbody>\n",
       "    <tr>\n",
       "      <th>0</th>\n",
       "      <td>Boston College</td>\n",
       "      <td>MA</td>\n",
       "      <td>85</td>\n",
       "      <td>39</td>\n",
       "      <td>13</td>\n",
       "      <td>25</td>\n",
       "    </tr>\n",
       "    <tr>\n",
       "      <th>1</th>\n",
       "      <td>Brandeis University</td>\n",
       "      <td>MA</td>\n",
       "      <td>79</td>\n",
       "      <td>68</td>\n",
       "      <td>8</td>\n",
       "      <td>33</td>\n",
       "    </tr>\n",
       "    <tr>\n",
       "      <th>2</th>\n",
       "      <td>Brown University</td>\n",
       "      <td>RI</td>\n",
       "      <td>93</td>\n",
       "      <td>60</td>\n",
       "      <td>8</td>\n",
       "      <td>40</td>\n",
       "    </tr>\n",
       "    <tr>\n",
       "      <th>3</th>\n",
       "      <td>California Institute of Technology</td>\n",
       "      <td>CA</td>\n",
       "      <td>85</td>\n",
       "      <td>65</td>\n",
       "      <td>3</td>\n",
       "      <td>46</td>\n",
       "    </tr>\n",
       "    <tr>\n",
       "      <th>4</th>\n",
       "      <td>Carnegie Mellon University</td>\n",
       "      <td>PA</td>\n",
       "      <td>75</td>\n",
       "      <td>67</td>\n",
       "      <td>10</td>\n",
       "      <td>28</td>\n",
       "    </tr>\n",
       "  </tbody>\n",
       "</table>\n",
       "</div>"
      ],
      "text/plain": [
       "                           University State  grad_rate  %_U20  \\\n",
       "0                      Boston College    MA         85     39   \n",
       "1                 Brandeis University    MA         79     68   \n",
       "2                    Brown University    RI         93     60   \n",
       "3  California Institute of Technology    CA         85     65   \n",
       "4          Carnegie Mellon University    PA         75     67   \n",
       "\n",
       "   std-faculty_ratio  alumni_giving_rate  \n",
       "0                 13                  25  \n",
       "1                  8                  33  \n",
       "2                  8                  40  \n",
       "3                  3                  46  \n",
       "4                 10                  28  "
      ]
     },
     "execution_count": 34,
     "metadata": {},
     "output_type": "execute_result"
    }
   ],
   "source": [
    "ag.head()"
   ]
  },
  {
   "cell_type": "code",
   "execution_count": 35,
   "metadata": {},
   "outputs": [
    {
     "data": {
      "image/png": "[encoded data removed]",
      "text/plain": [
       "<Figure size 432x288 with 1 Axes>"
      ]
     },
     "metadata": {
      "needs_background": "light"
     },
     "output_type": "display_data"
    }
   ],
   "source": [
    "plt.scatter(ag.grad_rate, ag.alumni_giving_rate)\n",
    "plt.title('Graduation Rate vs Alumni Giving Rate')\n",
    "plt.xlabel('Graduation Rate')\n",
    "plt.ylabel('Alumni Giving Rate')\n",
    "plt.show()"
   ]
  },
  {
   "cell_type": "code",
   "execution_count": 39,
   "metadata": {},
   "outputs": [
    {
     "data": {
      "image/png": "[encoded data removed]",
      "text/plain": [
       "<Figure size 864x288 with 3 Axes>"
      ]
     },
     "metadata": {
      "needs_background": "light"
     },
     "output_type": "display_data"
    }
   ],
   "source": [
    "# Using pairplot we'll visualize the data for correlation\n",
    "sns.pairplot(ag, x_vars=['grad_rate', '%_U20', 'std-faculty_ratio'],\n",
    "            y_vars='alumni_giving_rate', height=4, aspect=1, kind='scatter')\n",
    "plt.show()"
   ]
  },
  {
   "cell_type": "code",
   "execution_count": 1,
   "metadata": {},
   "outputs": [],
   "source": [
    "variables = ['alumni_giving_rate', 'grad_rate', '%_U20', 'std-faculty_ratio']"
   ]
  },
  {
   "cell_type": "code",
   "execution_count": 6,
   "metadata": {
    "scrolled": true
   },
   "outputs": [
    {
     "name": "stderr",
     "output_type": "stream",
     "text": [
      "C:\\Users\\Tym\\anaconda3\\lib\\site-packages\\seaborn\\axisgrid.py:1912: UserWarning: The `size` parameter has been renamed to `height`; please update your code.\n",
      "  warnings.warn(msg, UserWarning)\n"
     ]
    },
    {
     "data": {
      "text/plain": [
       "<seaborn.axisgrid.PairGrid at 0x26745f3cc70>"
      ]
     },
     "execution_count": 6,
     "metadata": {},
     "output_type": "execute_result"
    },
    {
     "data": {
      "image/png": "[encoded data removed]",
      "text/plain": [
       "<Figure size 576x576 with 20 Axes>"
      ]
     },
     "metadata": {
      "needs_background": "light"
     },
     "output_type": "display_data"
    }
   ],
   "source": [
    "sns.pairplot(ag[variables], size=2)"
   ]
  },
  {
   "cell_type": "code",
   "execution_count": 9,
   "metadata": {},
   "outputs": [
    {
     "ename": "NameError",
     "evalue": "name 'model' is not defined",
     "output_type": "error",
     "traceback": [
      "\u001b[1;31m---------------------------------------------------------------------------\u001b[0m",
      "\u001b[1;31mNameError\u001b[0m                                 Traceback (most recent call last)",
      "\u001b[1;32m<ipython-input-9-3da06d221a63>\u001b[0m in \u001b[0;36m<module>\u001b[1;34m\u001b[0m\n\u001b[1;32m----> 1\u001b[1;33m \u001b[0mprint\u001b[0m\u001b[1;33m(\u001b[0m\u001b[1;34m'R Squared: '\u001b[0m\u001b[1;33m,\u001b[0m\u001b[0mmodel\u001b[0m\u001b[1;33m.\u001b[0m\u001b[0mscore\u001b[0m\u001b[1;33m(\u001b[0m\u001b[0mag\u001b[0m\u001b[1;33m[\u001b[0m\u001b[1;34m'alumni_giving_rate'\u001b[0m\u001b[1;33m]\u001b[0m\u001b[1;33m,\u001b[0m \u001b[0mag\u001b[0m\u001b[1;33m[\u001b[0m\u001b[1;34m'Graduation Rate'\u001b[0m\u001b[1;33m]\u001b[0m\u001b[1;33m)\u001b[0m\u001b[1;33m)\u001b[0m\u001b[1;33m\u001b[0m\u001b[1;33m\u001b[0m\u001b[0m\n\u001b[0m",
      "\u001b[1;31mNameError\u001b[0m: name 'model' is not defined"
     ]
    }
   ],
   "source": []
  },
  {
   "cell_type": "code",
   "execution_count": 16,
   "metadata": {},
   "outputs": [],
   "source": [
    "features=['grad_rate']\n",
    "outcome=['alumni_giving_rate']\n",
    "x1=ag[features]\n",
    "y1=ag[outcome]"
   ]
  },
  {
   "cell_type": "code",
   "execution_count": 23,
   "metadata": {},
   "outputs": [],
   "source": [
    "regressor=LinearRegression()\n",
    "model=regressor.fit(x1,y1)"
   ]
  },
  {
   "cell_type": "code",
   "execution_count": 27,
   "metadata": {},
   "outputs": [
    {
     "name": "stdout",
     "output_type": "stream",
     "text": [
      "[-68.76118278]\n"
     ]
    }
   ],
   "source": [
    "print(model.intercept_)"
   ]
  },
  {
   "cell_type": "code",
   "execution_count": 25,
   "metadata": {},
   "outputs": [
    {
     "name": "stdout",
     "output_type": "stream",
     "text": [
      "[[1.180516]]\n"
     ]
    }
   ],
   "source": [
    "print(model.coef_)"
   ]
  },
  {
   "cell_type": "code",
   "execution_count": 22,
   "metadata": {},
   "outputs": [
    {
     "ename": "SyntaxError",
     "evalue": "unexpected EOF while parsing (<ipython-input-22-760d4daad521>, line 1)",
     "output_type": "error",
     "traceback": [
      "\u001b[1;36m  File \u001b[1;32m\"<ipython-input-22-760d4daad521>\"\u001b[1;36m, line \u001b[1;32m1\u001b[0m\n\u001b[1;33m    print('R Squared: ',model.score(x1,y1)\u001b[0m\n\u001b[1;37m                                          ^\u001b[0m\n\u001b[1;31mSyntaxError\u001b[0m\u001b[1;31m:\u001b[0m unexpected EOF while parsing\n"
     ]
    }
   ],
   "source": [
    "print('R Squared: ',model.score(x1,y1)"
   ]
  },
  {
   "cell_type": "code",
   "execution_count": 4,
   "metadata": {},
   "outputs": [
    {
     "data": {
      "image/png": "[encoded data removed]",
      "text/plain": [
       "<Figure size 432x288 with 2 Axes>"
      ]
     },
     "metadata": {
      "needs_background": "light"
     },
     "output_type": "display_data"
    }
   ],
   "source": [
    "# Visualizing the data using heatmap\n",
    "sns.heatmap(ag.corr(), cmap=\"YlGnBu\", annot = True)\n",
    "plt.show()"
   ]
  },
  {
   "cell_type": "code",
   "execution_count": 6,
   "metadata": {},
   "outputs": [],
   "source": [
    "# Performing linear regression using `grad_rate` as our feature variable\n",
    "# Y=C+M*\"alumni_giving_rate\"\n",
    "\n",
    "# 1. Create X and y\n",
    "# 2. Create Train and Test set\n",
    "# 3. Train your model\n",
    "# 4. Evaluate the model"
   ]
  },
  {
   "cell_type": "code",
   "execution_count": 8,
   "metadata": {},
   "outputs": [],
   "source": [
    "# Creating x and y, feature & outcome/target variable\n",
    "x = ag['grad_rate']\n",
    "y = ag['alumni_giving_rate']"
   ]
  },
  {
   "cell_type": "code",
   "execution_count": 10,
   "metadata": {},
   "outputs": [],
   "source": [
    "# Splitting the varaibles as training and testing(7:3 ratio)\n",
    "x_train, x_test, y_train, y_test = train_test_split(x, y, train_size = 0.7, \n",
    "                                                    test_size = 0.3, random_state = 100)"
   ]
  },
  {
   "cell_type": "code",
   "execution_count": 12,
   "metadata": {},
   "outputs": [
    {
     "data": {
      "text/plain": [
       "35    26\n",
       "33    23\n",
       "7     31\n",
       "45    38\n",
       "20    67\n",
       "Name: alumni_giving_rate, dtype: int64"
      ]
     },
     "execution_count": 12,
     "metadata": {},
     "output_type": "execute_result"
    }
   ],
   "source": [
    "y_train.head()"
   ]
  },
  {
   "cell_type": "code",
   "execution_count": 15,
   "metadata": {},
   "outputs": [],
   "source": [
    "## Statsmodels.api\n",
    "# Adding a constant to get an intercept\n",
    "x_train_sm = sm.add_constant(x_train)"
   ]
  },
  {
   "cell_type": "code",
   "execution_count": 16,
   "metadata": {},
   "outputs": [
    {
     "data": {
      "text/plain": [
       "const       -75.650788\n",
       "grad_rate     1.266405\n",
       "dtype: float64"
      ]
     },
     "execution_count": 16,
     "metadata": {},
     "output_type": "execute_result"
    }
   ],
   "source": [
    "# Fitting the resgression line using 'OLS'\n",
    "lr = sm.OLS(y_train, x_train_sm).fit()\n",
    "\n",
    "# Printing the parameters\n",
    "lr.params"
   ]
  },
  {
   "cell_type": "code",
   "execution_count": 17,
   "metadata": {},
   "outputs": [
    {
     "data": {
      "text/html": [
       "<table class=\"simpletable\">\n",
       "<caption>OLS Regression Results</caption>\n",
       "<tr>\n",
       "  <th>Dep. Variable:</th>    <td>alumni_giving_rate</td> <th>  R-squared:         </th> <td>   0.564</td>\n",
       "</tr>\n",
       "<tr>\n",
       "  <th>Model:</th>                    <td>OLS</td>        <th>  Adj. R-squared:    </th> <td>   0.550</td>\n",
       "</tr>\n",
       "<tr>\n",
       "  <th>Method:</th>              <td>Least Squares</td>   <th>  F-statistic:       </th> <td>   40.07</td>\n",
       "</tr>\n",
       "<tr>\n",
       "  <th>Date:</th>              <td>Tue, 12 Apr 2022</td>  <th>  Prob (F-statistic):</th> <td>4.81e-07</td>\n",
       "</tr>\n",
       "<tr>\n",
       "  <th>Time:</th>                  <td>15:06:32</td>      <th>  Log-Likelihood:    </th> <td> -118.45</td>\n",
       "</tr>\n",
       "<tr>\n",
       "  <th>No. Observations:</th>       <td>    33</td>       <th>  AIC:               </th> <td>   240.9</td>\n",
       "</tr>\n",
       "<tr>\n",
       "  <th>Df Residuals:</th>           <td>    31</td>       <th>  BIC:               </th> <td>   243.9</td>\n",
       "</tr>\n",
       "<tr>\n",
       "  <th>Df Model:</th>               <td>     1</td>       <th>                     </th>     <td> </td>   \n",
       "</tr>\n",
       "<tr>\n",
       "  <th>Covariance Type:</th>       <td>nonrobust</td>     <th>                     </th>     <td> </td>   \n",
       "</tr>\n",
       "</table>\n",
       "<table class=\"simpletable\">\n",
       "<tr>\n",
       "      <td></td>         <th>coef</th>     <th>std err</th>      <th>t</th>      <th>P>|t|</th>  <th>[0.025</th>    <th>0.975]</th>  \n",
       "</tr>\n",
       "<tr>\n",
       "  <th>const</th>     <td>  -75.6508</td> <td>   16.879</td> <td>   -4.482</td> <td> 0.000</td> <td> -110.075</td> <td>  -41.227</td>\n",
       "</tr>\n",
       "<tr>\n",
       "  <th>grad_rate</th> <td>    1.2664</td> <td>    0.200</td> <td>    6.330</td> <td> 0.000</td> <td>    0.858</td> <td>    1.674</td>\n",
       "</tr>\n",
       "</table>\n",
       "<table class=\"simpletable\">\n",
       "<tr>\n",
       "  <th>Omnibus:</th>       <td> 0.517</td> <th>  Durbin-Watson:     </th> <td>   2.179</td>\n",
       "</tr>\n",
       "<tr>\n",
       "  <th>Prob(Omnibus):</th> <td> 0.772</td> <th>  Jarque-Bera (JB):  </th> <td>   0.239</td>\n",
       "</tr>\n",
       "<tr>\n",
       "  <th>Skew:</th>          <td> 0.208</td> <th>  Prob(JB):          </th> <td>   0.887</td>\n",
       "</tr>\n",
       "<tr>\n",
       "  <th>Kurtosis:</th>      <td> 2.968</td> <th>  Cond. No.          </th> <td>    905.</td>\n",
       "</tr>\n",
       "</table><br/><br/>Notes:<br/>[1] Standard Errors assume that the covariance matrix of the errors is correctly specified."
      ],
      "text/plain": [
       "<class 'statsmodels.iolib.summary.Summary'>\n",
       "\"\"\"\n",
       "                            OLS Regression Results                            \n",
       "==============================================================================\n",
       "Dep. Variable:     alumni_giving_rate   R-squared:                       0.564\n",
       "Model:                            OLS   Adj. R-squared:                  0.550\n",
       "Method:                 Least Squares   F-statistic:                     40.07\n",
       "Date:                Tue, 12 Apr 2022   Prob (F-statistic):           4.81e-07\n",
       "Time:                        15:06:32   Log-Likelihood:                -118.45\n",
       "No. Observations:                  33   AIC:                             240.9\n",
       "Df Residuals:                      31   BIC:                             243.9\n",
       "Df Model:                           1                                         \n",
       "Covariance Type:            nonrobust                                         \n",
       "==============================================================================\n",
       "                 coef    std err          t      P>|t|      [0.025      0.975]\n",
       "------------------------------------------------------------------------------\n",
       "const        -75.6508     16.879     -4.482      0.000    -110.075     -41.227\n",
       "grad_rate      1.2664      0.200      6.330      0.000       0.858       1.674\n",
       "==============================================================================\n",
       "Omnibus:                        0.517   Durbin-Watson:                   2.179\n",
       "Prob(Omnibus):                  0.772   Jarque-Bera (JB):                0.239\n",
       "Skew:                           0.208   Prob(JB):                        0.887\n",
       "Kurtosis:                       2.968   Cond. No.                         905.\n",
       "==============================================================================\n",
       "\n",
       "Notes:\n",
       "[1] Standard Errors assume that the covariance matrix of the errors is correctly specified.\n",
       "\"\"\""
      ]
     },
     "execution_count": 17,
     "metadata": {},
     "output_type": "execute_result"
    }
   ],
   "source": [
    "# Performing a summary to list out all the different parameters of the regression line fitted\n",
    "lr.summary()"
   ]
  },
  {
   "cell_type": "code",
   "execution_count": 19,
   "metadata": {},
   "outputs": [
    {
     "data": {
      "image/png": "[encoded data removed]",
      "text/plain": [
       "<Figure size 432x288 with 1 Axes>"
      ]
     },
     "metadata": {
      "needs_background": "light"
     },
     "output_type": "display_data"
    }
   ],
   "source": [
    "# alumni_giving_rate = 1.2664*'grad_rate' - 75.6508\n",
    "plt.scatter(x_train,y_train)\n",
    "plt.title('Graduation Rate vs Alumni Giving Rate')\n",
    "plt.xlabel('Graduation Rate')\n",
    "plt.ylabel('Alumni Giving Rate')\n",
    "plt.plot(x_train,1.2664*x_train - 75.6508, 'r')\n",
    "plt.show()"
   ]
  },
  {
   "cell_type": "code",
   "execution_count": 21,
   "metadata": {},
   "outputs": [],
   "source": [
    "## Residual Analysis"
   ]
  },
  {
   "cell_type": "code",
   "execution_count": 22,
   "metadata": {},
   "outputs": [],
   "source": [
    "# Predicting y_value using traingn data of X\n",
    "y_train_pred = lr.predict(x_train_sm)\n",
    "\n",
    "# Creating residuals from the y_train data and predicted y_data\n",
    "res = (y_train - y_train_pred)"
   ]
  },
  {
   "cell_type": "code",
   "execution_count": 23,
   "metadata": {},
   "outputs": [
    {
     "name": "stderr",
     "output_type": "stream",
     "text": [
      "C:\\Users\\Tym\\anaconda3\\lib\\site-packages\\seaborn\\distributions.py:2551: FutureWarning: `distplot` is a deprecated function and will be removed in a future version. Please adapt your code to use either `displot` (a figure-level function with similar flexibility) or `histplot` (an axes-level function for histograms).\n",
      "  warnings.warn(msg, FutureWarning)\n"
     ]
    },
    {
     "data": {
      "image/png": "[encoded data removed]",
      "text/plain": [
       "<Figure size 432x288 with 1 Axes>"
      ]
     },
     "metadata": {
      "needs_background": "light"
     },
     "output_type": "display_data"
    }
   ],
   "source": [
    "# Plotting the histogram using the residual values\n",
    "fig = plt.figure()\n",
    "sns.distplot(res, bins = 5)\n",
    "plt.title('Error Terms', fontsize = 15)\n",
    "plt.xlabel('y_train - y_train_pred', fontsize = 15)\n",
    "plt.show()"
   ]
  },
  {
   "cell_type": "code",
   "execution_count": 24,
   "metadata": {},
   "outputs": [
    {
     "data": {
      "image/png": "[encoded data removed]",
      "text/plain": [
       "<Figure size 432x288 with 1 Axes>"
      ]
     },
     "metadata": {
      "needs_background": "light"
     },
     "output_type": "display_data"
    }
   ],
   "source": [
    "# Looking for any patterns in the residuals(should not have a pattern)\n",
    "plt.scatter(x_train, res)\n",
    "plt.show()"
   ]
  },
  {
   "cell_type": "code",
   "execution_count": 25,
   "metadata": {},
   "outputs": [],
   "source": [
    "## Predictions on the Test data or Evaluating the model"
   ]
  },
  {
   "cell_type": "code",
   "execution_count": 26,
   "metadata": {},
   "outputs": [
    {
     "data": {
      "text/plain": [
       "6     37.059300\n",
       "28    23.128840\n",
       "32     9.198379\n",
       "26    18.063218\n",
       "41    40.858517\n",
       "47    43.391328\n",
       "5     15.530407\n",
       "40     7.931974\n",
       "18    38.325706\n",
       "31    30.727273\n",
       "0     31.993678\n",
       "11    30.727273\n",
       "36    43.391328\n",
       "17    15.530407\n",
       "43    16.796812\n",
       "dtype: float64"
      ]
     },
     "execution_count": 26,
     "metadata": {},
     "output_type": "execute_result"
    }
   ],
   "source": [
    "# Adding a constant to x_test\n",
    "x_test_sm = sm.add_constant(x_test)\n",
    "\n",
    "# Predicting the y values corresponding to x_test_sm\n",
    "y_test_pred = lr.predict(x_test_sm)\n",
    "\n",
    "# Printing the first 15 predicted values\n",
    "y_test_pred"
   ]
  },
  {
   "cell_type": "code",
   "execution_count": 28,
   "metadata": {},
   "outputs": [
    {
     "data": {
      "text/plain": [
       "0.5388600932467233"
      ]
     },
     "execution_count": 28,
     "metadata": {},
     "output_type": "execute_result"
    }
   ],
   "source": [
    "# Checking the R-squared value\n",
    "r_squared = r2_score(y_test, y_test_pred)\n",
    "r_squared"
   ]
  },
  {
   "cell_type": "code",
   "execution_count": null,
   "metadata": {},
   "outputs": [],
   "source": [
    "# Since the R² value on test data is within 5% of the R² value on training data, \n",
    "# we can conclude that the model is pretty stable. \n",
    "# Which means, what the model has learned on the training set can generalize on the unseen test set."
   ]
  },
  {
   "cell_type": "code",
   "execution_count": 29,
   "metadata": {},
   "outputs": [
    {
     "data": {
      "image/png": "[encoded data removed]",
      "text/plain": [
       "<Figure size 432x288 with 1 Axes>"
      ]
     },
     "metadata": {
      "needs_background": "light"
     },
     "output_type": "display_data"
    }
   ],
   "source": [
    "plt.scatter(x_test, y_test)\n",
    "plt.plot(x_test, y_test_pred, 'r')\n",
    "plt.show()"
   ]
  },
  {
   "cell_type": "code",
   "execution_count": 30,
   "metadata": {},
   "outputs": [],
   "source": [
    "## sklearn"
   ]
  },
  {
   "cell_type": "code",
   "execution_count": 32,
   "metadata": {},
   "outputs": [],
   "source": [
    "# Splitting the data into train and test\n",
    "x_train_lm, x_test_lm, y_train_lm, y_test_lm = train_test_split(x, y, train_size = 0.7, \n",
    "                                                                test_size = 0.3, random_state = 100)"
   ]
  },
  {
   "cell_type": "code",
   "execution_count": 33,
   "metadata": {},
   "outputs": [
    {
     "name": "stdout",
     "output_type": "stream",
     "text": [
      "(33, 1)\n",
      "(15, 1)\n"
     ]
    }
   ],
   "source": [
    "# Shape of the train set without adding column\n",
    "x_train_lm.shape\n",
    "\n",
    "# Adding additional column to the train and test data\n",
    "x_train_lm = x_train_lm.values.reshape(-1,1)\n",
    "x_test_lm = x_test_lm.values.reshape(-1,1)\n",
    "\n",
    "print(x_train_lm.shape)\n",
    "print(x_test_lm.shape)"
   ]
  },
  {
   "cell_type": "code",
   "execution_count": 34,
   "metadata": {},
   "outputs": [
    {
     "data": {
      "text/plain": [
       "LinearRegression()"
      ]
     },
     "execution_count": 34,
     "metadata": {},
     "output_type": "execute_result"
    }
   ],
   "source": [
    "# Creating an object of Linear Regression\n",
    "lm = LinearRegression()\n",
    "\n",
    "# Fit the model using .fit() method\n",
    "lm.fit(x_train_lm, y_train_lm)"
   ]
  },
  {
   "cell_type": "code",
   "execution_count": 35,
   "metadata": {},
   "outputs": [
    {
     "name": "stdout",
     "output_type": "stream",
     "text": [
      "Intercept : -75.65078799750688\n",
      "Slope : [1.26640548]\n"
     ]
    }
   ],
   "source": [
    "# Intercept value\n",
    "print(\"Intercept :\",lm.intercept_)\n",
    "\n",
    "# Slope value\n",
    "print('Slope :',lm.coef_)"
   ]
  },
  {
   "cell_type": "code",
   "execution_count": 37,
   "metadata": {},
   "outputs": [
    {
     "name": "stdout",
     "output_type": "stream",
     "text": [
      "0.5638114755869994\n",
      "0.5388600932467238\n"
     ]
    }
   ],
   "source": [
    "# Making Predictions of y_value\n",
    "y_train_pred = lm.predict(x_train_lm)\n",
    "y_test_pred = lm.predict(x_test_lm)\n",
    "\n",
    "# Comparing the r2 value of both train and test data\n",
    "print(r2_score(y_train,y_train_pred))\n",
    "print(r2_score(y_test,y_test_pred))"
   ]
  },
  {
   "cell_type": "code",
   "execution_count": null,
   "metadata": {},
   "outputs": [],
   "source": [
    "# five steps to build the simple linear regression model:\n",
    "# 1.Reading and understanding the data\n",
    "# 2.Visualizing the data\n",
    "# 3.Performing simple linear regression\n",
    "# 4.Residual analysis\n",
    "# 5.Predictions on the test set"
   ]
  },
  {
   "cell_type": "code",
   "execution_count": null,
   "metadata": {},
   "outputs": [],
   "source": []
  },
  {
   "cell_type": "code",
   "execution_count": null,
   "metadata": {},
   "outputs": [],
   "source": []
  }
 ],
 "metadata": {
  "kernelspec": {
   "display_name": "Python 3",
   "language": "python",
   "name": "python3"
  },
  "language_info": {
   "codemirror_mode": {
    "name": "ipython",
    "version": 3
   },
   "file_extension": ".py",
   "mimetype": "text/x-python",
   "name": "python",
   "nbconvert_exporter": "python",
   "pygments_lexer": "ipython3",
   "version": "3.8.5"
  }
 },
 "nbformat": 4,
 "nbformat_minor": 4
}
